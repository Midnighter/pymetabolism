{
 "metadata": {
  "name": "ec_core_fba"
 },
 "nbformat": 3,
 "worksheets": [
  {
   "cells": [
    {
     "cell_type": "code",
     "collapsed": true,
     "input": [
      "import sys",
      "import os",
      "import logging"
     ],
     "language": "python",
     "outputs": [],
     "prompt_number": 1
    },
    {
     "cell_type": "code",
     "collapsed": true,
     "input": [
      "logger = logging.getLogger(\"\")"
     ],
     "language": "python",
     "outputs": [],
     "prompt_number": 2
    },
    {
     "cell_type": "code",
     "collapsed": true,
     "input": [
      "logger.addHandler(logging.StreamHandler())",
      "logger.setLevel(logging.DEBUG)"
     ],
     "language": "python",
     "outputs": [],
     "prompt_number": 3
    },
    {
     "cell_type": "code",
     "collapsed": false,
     "input": [
      "sys.path.append(os.path.abspath(u\"..\"))"
     ],
     "language": "python",
     "outputs": [],
     "prompt_number": 10
    },
    {
     "cell_type": "code",
     "collapsed": false,
     "input": [
      "import pymetabolism"
     ],
     "language": "python",
     "outputs": [],
     "prompt_number": 5
    },
    {
     "cell_type": "code",
     "collapsed": true,
     "input": [
      "options = pymetabolism.OptionsManager.get_instance()"
     ],
     "language": "python",
     "outputs": [],
     "prompt_number": 6
    },
    {
     "cell_type": "code",
     "collapsed": false,
     "input": [
      "met = pymetabolism.parse(os.path.join(\"..\", \"pymetabolism\", \"tests\", \"data\", \"Ec_core_flux1.xml\"))"
     ],
     "language": "python",
     "outputs": [
      {
       "output_type": "stream",
       "stream": "stderr",
       "text": [
        "approx. 2 compartments"
       ]
      },
      {
       "output_type": "stream",
       "stream": "stderr",
       "text": [
        "77 compounds"
       ]
      },
      {
       "output_type": "stream",
       "stream": "stderr",
       "text": [
        "77 reactions"
       ]
      }
     ],
     "prompt_number": 12
    },
    {
     "cell_type": "code",
     "collapsed": false,
     "input": [
      "(model, known_fluxes) = met.generate_fba_model(\"core\", True)"
     ],
     "language": "python",
     "outputs": [],
     "prompt_number": 13
    },
    {
     "cell_type": "code",
     "collapsed": false,
     "input": [
      "print len(model._cmpd2cnstrnt), \"compounds\"",
      "print len(model._rxn2var), \"reactions\""
     ],
     "language": "python",
     "outputs": [
      {
       "output_type": "stream",
       "stream": "stdout",
       "text": [
        "77 compounds",
        "77 reactions"
       ]
      }
     ],
     "prompt_number": 14
    },
    {
     "cell_type": "code",
     "collapsed": false,
     "input": [
      "for (rxn, (lb, ub)) in model.iter_reaction_bounds():",
      "    print rxn, lb, ub"
     ],
     "language": "python",
     "outputs": [
      {
       "output_type": "stream",
       "stream": "stdout",
       "text": [
        "EX_o2_e_ -999999.0 999999.0",
        "EX_h2o_e_ -999999.0 999999.0",
        "MDH -999999.0 999999.0",
        "ICL 0.0 999999.0",
        "EX_glc_e_ -10.0 999999.0",
        "ICDHyr -999999.0 999999.0",
        "EX_h_e_ -999999.0 999999.0",
        "LDH_D -999999.0 999999.0",
        "MALS 0.0 999999.0",
        "ADHEr -999999.0 999999.0",
        "EX_pi_e_ -999999.0 999999.0",
        "EX_ac_e_ 0.0 999999.0",
        "ACt2r -999999.0 999999.0",
        "AKGDH 0.0 999999.0",
        "ACONT -999999.0 999999.0",
        "PPC 0.0 999999.0",
        "EX_pyr_e_ 0.0 999999.0",
        "ACKr -999999.0 999999.0",
        "ME1 0.0 999999.0",
        "ME2 0.0 999999.0",
        "EX_lac_D_e_ 0.0 999999.0",
        "AKGt2r -999999.0 999999.0",
        "CO2t -999999.0 999999.0",
        "PGL 0.0 999999.0",
        "ADK1 -999999.0 999999.0",
        "PPCK 0.0 999999.0",
        "GND 0.0 999999.0",
        "NADTRHD 0.0 999999.0",
        "TPI -999999.0 999999.0",
        "SUCD4 -999999.0 999999.0",
        "GLCpts 0.0 999999.0",
        "ATPM 7.6 7.6",
        "PFK 0.0 999999.0",
        "H2Ot -999999.0 999999.0",
        "TKT1 -999999.0 999999.0",
        "EX_co2_e_ -999999.0 999999.0",
        "D_LACt2 -999999.0 999999.0",
        "PDH 0.0 999999.0",
        "PPS 0.0 999999.0",
        "Biomass_Ecoli_core_N__w_GAM_ 0.0 999999.0",
        "ETOHt2r -999999.0 999999.0",
        "EX_succ_e_ 0.0 999999.0",
        "FORt -999999.0 999999.0",
        "PGM -999999.0 999999.0",
        "SUCCt2b 0.0 999999.0",
        "PYRt2r -999999.0 999999.0",
        "FRD 0.0 999999.0",
        "PTAr -999999.0 999999.0",
        "GAPD -999999.0 999999.0",
        "CS 0.0 999999.0",
        "FBA -999999.0 999999.0",
        "CYTBD 0.0 999999.0",
        "PGI -999999.0 999999.0",
        "FUM -999999.0 999999.0",
        "TKT2 -999999.0 999999.0",
        "ENO -999999.0 999999.0",
        "ATPS4r -999999.0 999999.0",
        "THD2 0.0 999999.0",
        "FUMt2_2 0.0 999999.0",
        "PYK 0.0 999999.0",
        "EX_for_e_ 0.0 999999.0",
        "NADH11 0.0 999999.0",
        "TALA -999999.0 999999.0",
        "EX_akg_e_ 0.0 999999.0",
        "EX_fum_e_ 0.0 999999.0",
        "SUCD1i 0.0 999999.0",
        "RPE -999999.0 999999.0",
        "PGK -999999.0 999999.0",
        "SUCOAS -999999.0 999999.0",
        "G6PDH2r -999999.0 999999.0",
        "FBP 0.0 999999.0",
        "O2t -999999.0 999999.0",
        "RPI -999999.0 999999.0",
        "EX_etoh_e_ 0.0 999999.0",
        "SUCCt2_2 0.0 999999.0",
        "PFL 0.0 999999.0",
        "PIt -999999.0 999999.0"
       ]
      }
     ],
     "prompt_number": 15
    },
    {
     "cell_type": "code",
     "collapsed": false,
     "input": [
      "atp = pymetabolism.metabolism.metabolism.SBMLCompartmentCompound.get_instance(\"atp_c\")"
     ],
     "language": "python",
     "outputs": [],
     "prompt_number": 16
    },
    {
     "cell_type": "code",
     "collapsed": false,
     "input": [
      "atp_rxns = model.iter_reactions(atp, coefficients=True)"
     ],
     "language": "python",
     "outputs": [],
     "prompt_number": 17
    },
    {
     "cell_type": "code",
     "collapsed": false,
     "input": [
      "for item in atp_rxns:",
      "    print item[0].full_form()"
     ],
     "language": "python",
     "outputs": [
      {
       "output_type": "stream",
       "stream": "stdout",
       "text": [
        "ACKr: 1.0 ac_c + 1.0 atp_c <=> 1.0 actp_c + 1.0 adp_c",
        "ACKr: 1.0 ac_c + 1.0 atp_c <=> 1.0 actp_c + 1.0 adp_c",
        "ADK1: 1.0 amp_c + 1.0 atp_c <=> 2.0 adp_c",
        "ADK1: 1.0 amp_c + 1.0 atp_c <=> 2.0 adp_c",
        "PGK: 1.0 atp_c + 1.0 3pg_c <=> 1.0 adp_c + 1.0 13dpg_c",
        "PGK: 1.0 atp_c + 1.0 3pg_c <=> 1.0 adp_c + 1.0 13dpg_c",
        "PFK: 1.0 f6p_c + 1.0 atp_c -> 1.0 h_c + 1.0 adp_c + 1.0 fdp_c",
        "PPS: 1.0 pyr_c + 1.0 h2o_c + 1.0 atp_c -> 2.0 h_c + 1.0 pi_c + 1.0 amp_c + 1.0 pep_c",
        "ATPS4r: 1.0 pi_c + 1.0 adp_c + 4.0 h_e <=> 3.0 h_c + 1.0 h2o_c + 1.0 atp_c",
        "ATPS4r: 1.0 pi_c + 1.0 adp_c + 4.0 h_e <=> 3.0 h_c + 1.0 h2o_c + 1.0 atp_c",
        "ATPM: 1.0 h2o_c + 1.0 atp_c -> 1.0 h_c + 1.0 pi_c + 1.0 adp_c",
        "Biomass_Ecoli_core_N__w_GAM_: 0.8977 r5p_c + 1.7867 oaa_c + 3.547 nad_c + 0.0709 f6p_c + 18.225 nadph_c + 0.361 e4p_c + 55.703 atp_c + 0.5191 pep_c + 2.8328 pyr_c + 1.0789 akg_c + 0.129 g3p_c + 0.205 g6p_c + 3.7478 accoa_c + 55.703 h2o_c + 1.496 3pg_c -> 3.547 nadh_c + 55.703 adp_c + 41.025 h_c + 3.7478 coa_c + 55.703 pi_c + 18.225 nadp_c",
        "PYK: 1.0 h_c + 1.0 adp_c + 1.0 pep_c -> 1.0 pyr_c + 1.0 atp_c",
        "PPCK: 1.0 oaa_c + 1.0 atp_c -> 1.0 adp_c + 1.0 co2_c + 1.0 pep_c",
        "SUCOAS: 1.0 succ_c + 1.0 coa_c + 1.0 atp_c <=> 1.0 pi_c + 1.0 adp_c + 1.0 succoa_c",
        "SUCOAS: 1.0 succ_c + 1.0 coa_c + 1.0 atp_c <=> 1.0 pi_c + 1.0 adp_c + 1.0 succoa_c"
       ]
      }
     ],
     "prompt_number": 18
    },
    {
     "cell_type": "code",
     "collapsed": false,
     "input": [
      "rxn = pymetabolism.metabolism.metabolism.SBMLReaction.get_instance(\"EX_glc_e_\")"
     ],
     "language": "python",
     "outputs": [],
     "prompt_number": 19
    },
    {
     "cell_type": "code",
     "collapsed": false,
     "input": [
      "rxn.full_form()"
     ],
     "language": "python",
     "outputs": [
      {
       "output_type": "pyout",
       "prompt_number": 20,
       "text": [
        "'EX_glc_e_: 1.0 glc_D_e <=> 1.0 glc_D_b'"
       ]
      }
     ],
     "prompt_number": 20
    },
    {
     "cell_type": "code",
     "collapsed": true,
     "input": [
      "obj = pymetabolism.metabolism.metabolism.SBMLReaction.get_instance(\"Biomass_Ecoli_core_N__w_GAM_\")"
     ],
     "language": "python",
     "outputs": [],
     "prompt_number": 21
    },
    {
     "cell_type": "code",
     "collapsed": false,
     "input": [
      "list(model.iter_objective_reaction(coefficients=True))"
     ],
     "language": "python",
     "outputs": [
      {
       "output_type": "pyout",
       "prompt_number": 22,
       "text": [
        "[(<pymetabolism.metabolism.metabolism.SBMLReaction, 174570668>, 1.0)]"
       ]
      }
     ],
     "prompt_number": 22
    },
    {
     "cell_type": "code",
     "collapsed": false,
     "input": [
      "for cmpd in met.compounds:",
      "    if str(cmpd).endswith(\"_b\"):",
      "        print str(cmpd)",
      "        model.add_compound_source(cmpd, ub=1000)",
      "        model.add_compound_drain(cmpd, ub=1000)"
     ],
     "language": "python",
     "outputs": [
      {
       "output_type": "stream",
       "stream": "stdout",
       "text": [
        "lac_D_b",
        "etoh_b",
        "pyr_b",
        "fum_b",
        "pi_b",
        "akg_b",
        "co2_b",
        "o2_b",
        "succ_b",
        "for_b",
        "glc_D_b",
        "ac_b",
        "h2o_b",
        "h_b"
       ]
      }
     ],
     "prompt_number": 23
    },
    {
     "cell_type": "code",
     "collapsed": false,
     "input": [
      "model.fba()"
     ],
     "language": "python",
     "outputs": [],
     "prompt_number": 24
    },
    {
     "cell_type": "code",
     "collapsed": false,
     "input": [
      "model.iter_flux(obj)"
     ],
     "language": "python",
     "outputs": [
      {
       "output_type": "pyout",
       "prompt_number": 25,
       "text": [
        "0.8614074125976555"
       ]
      }
     ],
     "prompt_number": 25
    },
    {
     "cell_type": "code",
     "collapsed": false,
     "input": [
      "model.get_objective_value()"
     ],
     "language": "python",
     "outputs": [
      {
       "output_type": "pyout",
       "prompt_number": 26,
       "text": [
        "0.8614074125976555"
       ]
      }
     ],
     "prompt_number": 26
    },
    {
     "cell_type": "code",
     "collapsed": false,
     "input": [
      "for (rxn, flux) in model.iter_flux():",
      "    flux = round(flux, 6)",
      "    if flux != known_fluxes[rxn]:",
      "        print str(rxn), \"\\t\", flux, \"!=\", known_fluxes[rxn]"
     ],
     "language": "python",
     "outputs": [],
     "prompt_number": 27
    },
    {
     "cell_type": "code",
     "collapsed": false,
     "input": [
      "model.parsimonious_fba()"
     ],
     "language": "python",
     "outputs": [],
     "prompt_number": 28
    },
    {
     "cell_type": "code",
     "collapsed": false,
     "input": [
      "model.iter_flux(obj)"
     ],
     "language": "python",
     "outputs": [
      {
       "output_type": "pyout",
       "prompt_number": 29,
       "text": [
        "0.8614074125976555"
       ]
      }
     ],
     "prompt_number": 29
    },
    {
     "cell_type": "code",
     "collapsed": false,
     "input": [
      "model.get_objective_value()"
     ],
     "language": "python",
     "outputs": [
      {
       "output_type": "pyout",
       "prompt_number": 30,
       "text": [
        "0.8614074125976555"
       ]
      }
     ],
     "prompt_number": 30
    },
    {
     "cell_type": "code",
     "collapsed": false,
     "input": [
      "for (rxn, flux) in model.iter_flux():",
      "    flux = round(flux, 6)",
      "    if flux != known_fluxes[rxn]:",
      "        print str(rxn), \"\\t\", flux, \"!=\", known_fluxes[rxn]"
     ],
     "language": "python",
     "outputs": [],
     "prompt_number": 31
    },
    {
     "cell_type": "code",
     "collapsed": false,
     "input": [
      "def info(rxn):",
      "    print frd.reversible",
      "    bounds = model.iter_reaction_bounds(rxn)",
      "    print \"lb:\", frd.lower_bound, \"model =\", bounds[0]",
      "    print \"ub:\", frd.upper_bound, \"model =\", bounds[1]",
      "    print \"flux:\", round(model.iter_flux(rxn), 6), \"known =\", known_fluxes[rxn]"
     ],
     "language": "python",
     "outputs": [],
     "prompt_number": 32
    },
    {
     "cell_type": "code",
     "collapsed": true,
     "input": [
      "frd = pymetabolism.metabolism.metabolism.SBMLReaction.get_instance(\"FRD\")",
      "sucd1i = pymetabolism.metabolism.metabolism.SBMLReaction.get_instance(\"SUCD1i\")"
     ],
     "language": "python",
     "outputs": [],
     "prompt_number": 33
    },
    {
     "cell_type": "code",
     "collapsed": false,
     "input": [
      "info(frd)"
     ],
     "language": "python",
     "outputs": [
      {
       "output_type": "stream",
       "stream": "stdout",
       "text": [
        "False",
        "lb: 0.0 model = 0.0",
        "ub: 999999.0 model = 999999.0",
        "flux: 0.0 known = 0.0"
       ]
      }
     ],
     "prompt_number": 34
    },
    {
     "cell_type": "code",
     "collapsed": false,
     "input": [
      "info(sucd1i)"
     ],
     "language": "python",
     "outputs": [
      {
       "output_type": "stream",
       "stream": "stdout",
       "text": [
        "False",
        "lb: 0.0 model = 0.0",
        "ub: 999999.0 model = 999999.0",
        "flux: 5.335524 known = 5.335524"
       ]
      }
     ],
     "prompt_number": 35
    },
    {
     "cell_type": "code",
     "collapsed": true,
     "input": [],
     "language": "python",
     "outputs": []
    }
   ]
  }
 ]
}