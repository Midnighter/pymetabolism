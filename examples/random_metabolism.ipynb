{
 "metadata": {
  "name": "random_metabolism"
 },
 "nbformat": 3,
 "worksheets": [
  {
   "cells": [
    {
     "cell_type": "markdown",
     "source": [
      "# Generate Mass-Balanced Metabolic Systems from Random Topologies"
     ]
    },
    {
     "cell_type": "code",
     "collapsed": true,
     "input": [
      "import logging"
     ],
     "language": "python",
     "outputs": [],
     "prompt_number": 1
    },
    {
     "cell_type": "code",
     "collapsed": true,
     "input": [
      "logger = logging.getLogger(\"\")"
     ],
     "language": "python",
     "outputs": [],
     "prompt_number": 2
    },
    {
     "cell_type": "code",
     "collapsed": true,
     "input": [
      "logger.setLevel(logging.WARN)"
     ],
     "language": "python",
     "outputs": [],
     "prompt_number": 3
    },
    {
     "cell_type": "code",
     "collapsed": true,
     "input": [
      "logger.addHandler(logging.StreamHandler())"
     ],
     "language": "python",
     "outputs": [],
     "prompt_number": 4
    },
    {
     "cell_type": "code",
     "collapsed": true,
     "input": [
      "import sys",
      "import os"
     ],
     "language": "python",
     "outputs": [],
     "prompt_number": 5
    },
    {
     "cell_type": "code",
     "collapsed": true,
     "input": [
      "sys.path.append(os.getcwdu())"
     ],
     "language": "python",
     "outputs": [],
     "prompt_number": 6
    },
    {
     "cell_type": "code",
     "collapsed": true,
     "input": [
      "import pymetabolism"
     ],
     "language": "python",
     "outputs": [],
     "prompt_number": 7
    },
    {
     "cell_type": "code",
     "collapsed": true,
     "input": [
      "options = pymetabolism.OptionsManager.get_instance()"
     ],
     "language": "python",
     "outputs": [],
     "prompt_number": 8
    },
    {
     "cell_type": "code",
     "collapsed": false,
     "input": [
      "import pymetabolism.network.generators as pygen",
      "import pymetabolism.metabolism.nullmodels as pynull"
     ],
     "language": "python",
     "outputs": [],
     "prompt_number": 9
    },
    {
     "cell_type": "markdown",
     "source": [
      "Use, for example, a probability for link existance as in the following function `random_p_mn` which a degree distribution that closely resembles an ER graph."
     ]
    },
    {
     "cell_type": "code",
     "collapsed": true,
     "input": [
      "import random"
     ],
     "language": "python",
     "outputs": [],
     "prompt_number": 10
    },
    {
     "cell_type": "code",
     "collapsed": true,
     "input": [
      "#logger.setLevel(logging.INFO)",
      "net = pygen.random_p_mn(200, 300, 200, 0.05, seed=3)"
     ],
     "language": "python",
     "outputs": [],
     "prompt_number": 11
    },
    {
     "cell_type": "code",
     "collapsed": false,
     "input": [
      "#logger.setLevel(logging.DEBUG)",
      "pynull.make_consistent_stoichiometry(net, range(1, 7))"
     ],
     "language": "python",
     "outputs": [],
     "prompt_number": 12
    },
    {
     "cell_type": "plaintext",
     "source": [
      "logger.setLevel(logging.WARN)",
      "for i in range(100):",
      "#    print \"attempt #\", i + 1",
      "    net = pygen.random_p_mn(200, 300, 200, 0.05)",
      "    try:",
      "        pynull.make_consistent_stoichiometry(net, range(1, 7))",
      "    except pymetabolism.PyMetabolismError:",
      "        if i == 99:",
      "            print(\"failed to find stoichiometry\")",
      "    else:",
      "        break"
     ]
    },
    {
     "cell_type": "markdown",
     "source": [
      "The function `make_consisten_stoichiometry` builds reactions from a given architecture and balances them iteratively by assigning masses to compounds and then finding minimal stoichiometric coefficients within a given range."
     ]
    },
    {
     "cell_type": "code",
     "collapsed": false,
     "input": [
      "coef = [data[\"coefficient\"] for (u, v, data) in net.edges_iter(data=True)]",
      "histo = numpy.bincount(coef)",
      "print histo",
      "scatter(range(len(histo)), histo)"
     ],
     "language": "python",
     "outputs": [
      {
       "output_type": "stream",
       "stream": "stdout",
       "text": [
        "[   0 4997  456  146   62   40   32]"
       ]
      },
      {
       "output_type": "pyout",
       "prompt_number": 13,
       "text": [
        "<matplotlib.collections.CircleCollection at 0xb44524c>"
       ]
      },
      {
       "output_type": "display_data",
       "png": "[encoded data removed]"
      }
     ],
     "prompt_number": 13
    },
    {
     "cell_type": "code",
     "collapsed": false,
     "input": [
      "scatter(numpy.log10(range(1, len(histo))), numpy.log10(histo[1:]))"
     ],
     "language": "python",
     "outputs": [
      {
       "output_type": "pyout",
       "prompt_number": 14,
       "text": [
        "<matplotlib.collections.CircleCollection at 0xb50126c>"
       ]
      },
      {
       "output_type": "display_data",
       "png": "[encoded data removed]"
      }
     ],
     "prompt_number": 14
    },
    {
     "cell_type": "code",
     "collapsed": false,
     "input": [
      "scatter(range(1, len(histo)), numpy.log10(histo[1:]))"
     ],
     "language": "python",
     "outputs": [
      {
       "output_type": "pyout",
       "prompt_number": 15,
       "text": [
        "<matplotlib.collections.CircleCollection at 0xb694a8c>"
       ]
      },
      {
       "output_type": "display_data",
       "png": "[encoded data removed]"
      }
     ],
     "prompt_number": 15
    },
    {
     "cell_type": "markdown",
     "source": [
      "The network with stoichiometric coefficients stored on the links is converted into a `MetabolicSystem`."
     ]
    },
    {
     "cell_type": "code",
     "collapsed": false,
     "input": [
      "met = net.to_system()"
     ],
     "language": "python",
     "outputs": [],
     "prompt_number": 16
    },
    {
     "cell_type": "markdown",
     "source": [
      "We now verify that the given system is indeed mass-balanced."
     ]
    },
    {
     "cell_type": "code",
     "collapsed": false,
     "input": [
      "(val, weights) = met.verify_consistency(True)"
     ],
     "language": "python",
     "outputs": [],
     "prompt_number": 17
    },
    {
     "cell_type": "markdown",
     "source": [
      "The masses found by the verification algorithm are minimal and do not correspond to the masses found by the generating algorithm, however, they are an indication of the simplicity or diversity of the metabolism at hand."
     ]
    },
    {
     "cell_type": "code",
     "collapsed": false,
     "input": [
      "if val:",
      "    for (cmpd, mass) in weights.iteritems():",
      "        assert mass > 0.0",
      "else:",
      "    print \"inconsistent\""
     ],
     "language": "python",
     "outputs": [],
     "prompt_number": 18
    },
    {
     "cell_type": "markdown",
     "source": [
      "We can now use this metabolic system to perform flux-balance analysis on it.",
      "",
      "1. Convert to `FBAModel`",
      "1. Choose media components",
      "1. Choose biomass components",
      "1. Record fluxes from `parsimonious_fba`",
      "1. Record in-fluxes and out-fluxes"
     ]
    },
    {
     "cell_type": "code",
     "collapsed": false,
     "input": [
      "model = met.generate_fba_model()"
     ],
     "language": "python",
     "outputs": [],
     "prompt_number": 19
    },
    {
     "cell_type": "code",
     "collapsed": true,
     "input": [
      "reactions = list(model.iter_reactions())"
     ],
     "language": "python",
     "outputs": [],
     "prompt_number": 20
    },
    {
     "cell_type": "code",
     "collapsed": true,
     "input": [
      "compounds = list(model.iter_compounds())"
     ],
     "language": "python",
     "outputs": [],
     "prompt_number": 21
    },
    {
     "cell_type": "code",
     "collapsed": false,
     "input": [
      "exchange = set(random.sample(compounds, 30))"
     ],
     "language": "python",
     "outputs": [],
     "prompt_number": 22
    },
    {
     "cell_type": "code",
     "collapsed": true,
     "input": [
      "model.add_compound_source(exchange, ub=1000)"
     ],
     "language": "python",
     "outputs": [],
     "prompt_number": 23
    },
    {
     "cell_type": "code",
     "collapsed": true,
     "input": [
      "model.add_compound_drain(exchange, ub=1000)"
     ],
     "language": "python",
     "outputs": [],
     "prompt_number": 24
    },
    {
     "cell_type": "code",
     "collapsed": false,
     "input": [
      "objective = set()",
      "while len(objective) < 10:",
      "    cmpd = random.choice(compounds)",
      "    if not cmpd in exchange:",
      "        objective.add(cmpd)",
      "biomass = pymetabolism.SBMLReaction(\"biomass\", dict((cmpd, 1.0) for cmpd in objective), {})"
     ],
     "language": "python",
     "outputs": [],
     "prompt_number": 25
    },
    {
     "cell_type": "code",
     "collapsed": false,
     "input": [
      "model.add_reaction(biomass, list(biomass.compounds(coefficients=True)), lb=0.0, ub=1000)"
     ],
     "language": "python",
     "outputs": [],
     "prompt_number": 26
    },
    {
     "cell_type": "code",
     "collapsed": true,
     "input": [
      "model.set_objective_reaction(biomass, 1)"
     ],
     "language": "python",
     "outputs": [],
     "prompt_number": 27
    },
    {
     "cell_type": "code",
     "collapsed": true,
     "input": [
      "model.fba()"
     ],
     "language": "python",
     "outputs": [],
     "prompt_number": 28
    },
    {
     "cell_type": "code",
     "collapsed": false,
     "input": [
      "model.iter_flux(biomass)"
     ],
     "language": "python",
     "outputs": [
      {
       "output_type": "pyout",
       "prompt_number": 29,
       "text": [
        "1000.0"
       ]
      }
     ],
     "prompt_number": 29
    },
    {
     "cell_type": "code",
     "collapsed": true,
     "input": [
      "total = reactions + [biomass]"
     ],
     "language": "python",
     "outputs": [],
     "prompt_number": 30
    },
    {
     "cell_type": "code",
     "collapsed": false,
     "input": [
      "hist([abs(flux) for flux in model.iter_flux(total)], bins=30)"
     ],
     "language": "python",
     "outputs": [
      {
       "output_type": "pyout",
       "prompt_number": 31,
       "text": [
        "(array([73,  6,  9,  8,  8, 12, 14,  6,  4,  8,  6,  7,  7, 12,  8,  5,  4,",
        "        3,  4, 10,  8,  6,  3,  1,  4,  2,  4,  5,  4, 50]),",
        " array([    0.        ,    33.33333333,    66.66666667,   100.        ,",
        "         133.33333333,   166.66666667,   200.        ,   233.33333333,",
        "         266.66666667,   300.        ,   333.33333333,   366.66666667,",
        "         400.        ,   433.33333333,   466.66666667,   500.        ,",
        "         533.33333333,   566.66666667,   600.        ,   633.33333333,",
        "         666.66666667,   700.        ,   733.33333333,   766.66666667,",
        "         800.        ,   833.33333333,   866.66666667,   900.        ,",
        "         933.33333333,   966.66666667,  1000.        ]),",
        " <a list of 30 Patch objects>)"
       ]
      },
      {
       "output_type": "display_data",
       "png": "[encoded data removed]"
      }
     ],
     "prompt_number": 31
    },
    {
     "cell_type": "code",
     "collapsed": false,
     "input": [
      "model.parsimonious_fba()"
     ],
     "language": "python",
     "outputs": [],
     "prompt_number": 32
    },
    {
     "cell_type": "code",
     "collapsed": false,
     "input": [
      "model.iter_flux(biomass)"
     ],
     "language": "python",
     "outputs": [
      {
       "output_type": "pyout",
       "prompt_number": 34,
       "text": [
        "1000.0"
       ]
      }
     ],
     "prompt_number": 34
    },
    {
     "cell_type": "code",
     "collapsed": false,
     "input": [
      "hist([abs(flux) for flux in model.iter_flux(total)], bins=30)"
     ],
     "language": "python",
     "outputs": [
      {
       "output_type": "pyout",
       "prompt_number": 33,
       "text": [
        "(array([184,  43,  26,  17,  14,   9,   3,   3,   0,   1,   0,   0,   0,",
        "         0,   0,   0,   0,   0,   0,   0,   0,   0,   0,   0,   0,   0,",
        "         0,   0,   0,   1]),",
        " array([    0.        ,    33.33333333,    66.66666667,   100.        ,",
        "         133.33333333,   166.66666667,   200.        ,   233.33333333,",
        "         266.66666667,   300.        ,   333.33333333,   366.66666667,",
        "         400.        ,   433.33333333,   466.66666667,   500.        ,",
        "         533.33333333,   566.66666667,   600.        ,   633.33333333,",
        "         666.66666667,   700.        ,   733.33333333,   766.66666667,",
        "         800.        ,   833.33333333,   866.66666667,   900.        ,",
        "         933.33333333,   966.66666667,  1000.        ]),",
        " <a list of 30 Patch objects>)"
       ]
      },
      {
       "output_type": "display_data",
       "png": "[encoded data removed]"
      }
     ],
     "prompt_number": 33
    },
    {
     "cell_type": "code",
     "collapsed": true,
     "input": [],
     "language": "python",
     "outputs": [],
     "prompt_number": 33
    }
   ]
  }
 ]
}