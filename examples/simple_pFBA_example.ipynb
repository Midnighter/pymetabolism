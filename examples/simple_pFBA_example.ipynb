{
 "metadata": {
  "name": "simple_pFBA_example"
 },
 "nbformat": 3,
 "worksheets": [
  {
   "cells": [
    {
     "cell_type": "code",
     "collapsed": true,
     "input": [
      "import sys",
      "import os",
      "import logging"
     ],
     "language": "python",
     "outputs": [],
     "prompt_number": 1
    },
    {
     "cell_type": "code",
     "collapsed": true,
     "input": [
      "logger = logging.getLogger(\"\")"
     ],
     "language": "python",
     "outputs": [],
     "prompt_number": 2
    },
    {
     "cell_type": "code",
     "collapsed": true,
     "input": [
      "logger.addHandler(logging.StreamHandler())",
      "logger.setLevel(logging.DEBUG)"
     ],
     "language": "python",
     "outputs": [],
     "prompt_number": 3
    },
    {
     "cell_type": "code",
     "collapsed": false,
     "input": [
      "sys.path.append(os.path.join(os.getcwdu(), \"..\"))"
     ],
     "language": "python",
     "outputs": [],
     "prompt_number": 4
    },
    {
     "cell_type": "code",
     "collapsed": false,
     "input": [
      "import pymetabolism"
     ],
     "language": "python",
     "outputs": [],
     "prompt_number": 5
    },
    {
     "cell_type": "code",
     "collapsed": true,
     "input": [
      "options = pymetabolism.OptionsManager.get_instance()"
     ],
     "language": "python",
     "outputs": [],
     "prompt_number": 6
    },
    {
     "cell_type": "code",
     "collapsed": false,
     "input": [
      "met = pymetabolism.parse(os.path.join(\"..\", \"pymetabolism\", \"tests\", \"data\", \"Ec_core_flux1.xml\"))"
     ],
     "language": "python",
     "outputs": [
      {
       "output_type": "stream",
       "stream": "stderr",
       "text": [
        "approx. 2 compartments",
        ""
       ]
      },
      {
       "output_type": "stream",
       "stream": "stderr",
       "text": [
        "77 compounds",
        ""
       ]
      },
      {
       "output_type": "stream",
       "stream": "stderr",
       "text": [
        "77 reactions",
        ""
       ]
      }
     ],
     "prompt_number": 8
    },
    {
     "cell_type": "code",
     "collapsed": false,
     "input": [
      "(model, known_fluxes) = met.generate_fba_model(\"core\", True)"
     ],
     "language": "python",
     "outputs": [],
     "prompt_number": 9
    },
    {
     "cell_type": "code",
     "collapsed": false,
     "input": [
      "print len(model._cmpd2cnstrnt), \"compounds\"",
      "print len(model._rxn2var), \"reactions\""
     ],
     "language": "python",
     "outputs": [
      {
       "output_type": "stream",
       "stream": "stdout",
       "text": [
        "77 compounds",
        "77 reactions",
        ""
       ]
      }
     ],
     "prompt_number": 10
    },
    {
     "cell_type": "code",
     "collapsed": true,
     "input": [
      "obj = pymetabolism.metabolism.metabolism.SBMLReaction.get_instance(\"Biomass_Ecoli_core_N__w_GAM_\")"
     ],
     "language": "python",
     "outputs": [],
     "prompt_number": 11
    },
    {
     "cell_type": "code",
     "collapsed": false,
     "input": [
      "for cmpd in met.compounds:",
      "    if str(cmpd).endswith(\"_b\"):",
      "        print str(cmpd)",
      "        model.add_compound_source(cmpd, ub=1000)",
      "        model.add_compound_drain(cmpd, ub=1000)"
     ],
     "language": "python",
     "outputs": [
      {
       "output_type": "stream",
       "stream": "stdout",
       "text": [
        "akg_b",
        "lac_D_b",
        "etoh_b",
        "h_b",
        "h2o_b",
        "fum_b",
        "pyr_b",
        "glc_D_b",
        "o2_b",
        "succ_b",
        "co2_b",
        "for_b",
        "pi_b",
        "ac_b",
        ""
       ]
      }
     ],
     "prompt_number": 12
    },
    {
     "cell_type": "code",
     "collapsed": false,
     "input": [
      "model.parsimonious_fba()"
     ],
     "language": "python",
     "outputs": [],
     "prompt_number": 13
    },
    {
     "cell_type": "code",
     "collapsed": false,
     "input": [
      "model.iter_flux(obj)"
     ],
     "language": "python",
     "outputs": [
      {
       "output_type": "pyout",
       "prompt_number": 14,
       "text": [
        "0.861407412604218"
       ]
      }
     ],
     "prompt_number": 14
    },
    {
     "cell_type": "code",
     "collapsed": false,
     "input": [
      "model.get_objective_value()"
     ],
     "language": "python",
     "outputs": [
      {
       "output_type": "pyout",
       "prompt_number": 15,
       "text": [
        "0.861407412604218"
       ]
      }
     ],
     "prompt_number": 15
    },
    {
     "cell_type": "code",
     "collapsed": false,
     "input": [
      "for (rxn, flux) in model.iter_flux():",
      "    flux = round(flux, 6)",
      "    if flux != known_fluxes[rxn]:",
      "        print str(rxn), \"\\t\", flux, \"!=\", known_fluxes[rxn]"
     ],
     "language": "python",
     "outputs": [],
     "prompt_number": 16
    },
    {
     "cell_type": "code",
     "collapsed": true,
     "input": [
      ""
     ],
     "language": "python",
     "outputs": []
    }
   ]
  }
 ]
}