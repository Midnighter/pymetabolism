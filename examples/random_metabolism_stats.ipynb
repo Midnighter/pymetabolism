{
 "metadata": {
  "name": "random_metabolism_stats"
 },
 "nbformat": 3,
 "worksheets": [
  {
   "cells": [
    {
     "cell_type": "markdown",
     "source": [
      "# Generate Mass-Balanced Metabolic Systems from Random Topologies"
     ]
    },
    {
     "cell_type": "code",
     "collapsed": true,
     "input": [
      "import logging"
     ],
     "language": "python",
     "outputs": [],
     "prompt_number": 1
    },
    {
     "cell_type": "code",
     "collapsed": true,
     "input": [
      "logger = logging.getLogger(\"\")"
     ],
     "language": "python",
     "outputs": [],
     "prompt_number": 2
    },
    {
     "cell_type": "code",
     "collapsed": true,
     "input": [
      "logger.setLevel(logging.WARN)"
     ],
     "language": "python",
     "outputs": [],
     "prompt_number": 3
    },
    {
     "cell_type": "code",
     "collapsed": true,
     "input": [
      "logger.addHandler(logging.StreamHandler())"
     ],
     "language": "python",
     "outputs": [],
     "prompt_number": 4
    },
    {
     "cell_type": "code",
     "collapsed": true,
     "input": [
      "import sys",
      "import os"
     ],
     "language": "python",
     "outputs": [],
     "prompt_number": 5
    },
    {
     "cell_type": "code",
     "collapsed": true,
     "input": [
      "sys.path.append(os.getcwdu())"
     ],
     "language": "python",
     "outputs": [],
     "prompt_number": 6
    },
    {
     "cell_type": "code",
     "collapsed": true,
     "input": [
      "import pymetabolism"
     ],
     "language": "python",
     "outputs": [],
     "prompt_number": 7
    },
    {
     "cell_type": "code",
     "collapsed": true,
     "input": [
      "options = pymetabolism.OptionsManager.get_instance()"
     ],
     "language": "python",
     "outputs": [],
     "prompt_number": 8
    },
    {
     "cell_type": "code",
     "collapsed": false,
     "input": [
      "import pymetabolism.network.generators as pygen",
      "import pymetabolism.metabolism.nullmodels as pynull"
     ],
     "language": "python",
     "outputs": [],
     "prompt_number": 9
    },
    {
     "cell_type": "markdown",
     "source": [
      "Use, for example, a probability for link existance as in the following function `random_p_mn` which a degree distribution that closely resembles an ER graph."
     ]
    },
    {
     "cell_type": "code",
     "collapsed": true,
     "input": [
      "import random"
     ],
     "language": "python",
     "outputs": [],
     "prompt_number": 10
    },
    {
     "cell_type": "code",
     "collapsed": false,
     "input": [
      "def consistent_system():",
      "    for i in range(100):",
      "    #    print \"attempt #\", i + 1",
      "        net = pygen.random_p_mn(200, 300, 200, 0.05)",
      "        try:",
      "            pynull.make_consistent_stoichiometry(net, range(1, 7))",
      "        except pymetabolism.PyMetabolismError:",
      "            if i == 99:",
      "                net = None",
      "                print(\"failed to find stoichiometry\")",
      "        else:",
      "            break",
      "    return net"
     ],
     "language": "python",
     "outputs": [],
     "prompt_number": 12
    },
    {
     "cell_type": "code",
     "collapsed": true,
     "input": [
      "networks = [consistent_system() for i in range(50)]"
     ],
     "language": "python",
     "outputs": [],
     "prompt_number": 13
    },
    {
     "cell_type": "code",
     "collapsed": true,
     "input": [
      "import networkx as nx"
     ],
     "language": "python",
     "outputs": [],
     "prompt_number": 14
    },
    {
     "cell_type": "code",
     "collapsed": true,
     "input": [
      "for (i, net) in enumerate(networks):",
      "    nx.write_gpickle(net, \"net_%d.gpickle.bz2\" % i)"
     ],
     "language": "python",
     "outputs": [],
     "prompt_number": 15
    },
    {
     "cell_type": "markdown",
     "source": [
      "The function `make_consisten_stoichiometry` builds reactions from a given architecture and balances them iteratively by assigning masses to compounds and then finding minimal stoichiometric coefficients within a given range."
     ]
    },
    {
     "cell_type": "code",
     "collapsed": false,
     "input": [
      "coef = [data[\"coefficient\"] for net in networks for (u, v, data) in net.edges_iter(data=True)]",
      "histo = numpy.bincount(coef)",
      "print histo",
      "scatter(range(len(histo)), histo)"
     ],
     "language": "python",
     "outputs": [
      {
       "output_type": "stream",
       "stream": "stdout",
       "text": [
        "[     0 256352  23893   6618   2907   1693   1446]"
       ]
      },
      {
       "output_type": "pyout",
       "prompt_number": 16,
       "text": [
        "<matplotlib.collections.CircleCollection at 0xfc3770c>"
       ]
      },
      {
       "output_type": "display_data",
       "png": "[encoded data removed]"
      }
     ],
     "prompt_number": 16
    },
    {
     "cell_type": "code",
     "collapsed": false,
     "input": [
      "scatter(numpy.log10(range(1, len(histo))), numpy.log10(histo[1:]))"
     ],
     "language": "python",
     "outputs": [
      {
       "output_type": "pyout",
       "prompt_number": 17,
       "text": [
        "<matplotlib.collections.CircleCollection at 0xfdec36c>"
       ]
      },
      {
       "output_type": "display_data",
       "png": "[encoded data removed]"
      }
     ],
     "prompt_number": 17
    },
    {
     "cell_type": "code",
     "collapsed": false,
     "input": [
      "scatter(range(1, len(histo)), numpy.log10(histo[1:]))"
     ],
     "language": "python",
     "outputs": [
      {
       "output_type": "pyout",
       "prompt_number": 18,
       "text": [
        "<matplotlib.collections.CircleCollection at 0xfdd782c>"
       ]
      },
      {
       "output_type": "display_data",
       "png": "[encoded data removed]"
      }
     ],
     "prompt_number": 18
    },
    {
     "cell_type": "markdown",
     "source": [
      "The network with stoichiometric coefficients stored on the links is converted into a `MetabolicSystem`."
     ]
    },
    {
     "cell_type": "code",
     "collapsed": true,
     "input": [
      "systems = [net.to_system() for net in networks]"
     ],
     "language": "python",
     "outputs": [],
     "prompt_number": 19
    },
    {
     "cell_type": "code",
     "collapsed": false,
     "input": [
      "all(met.verify_consistency() for met in systems)"
     ],
     "language": "python",
     "outputs": [
      {
       "output_type": "pyout",
       "prompt_number": 20,
       "text": [
        "True"
       ]
      }
     ],
     "prompt_number": 20
    },
    {
     "cell_type": "markdown",
     "source": [
      "We can now use this metabolic system to perform flux-balance analysis on it.",
      "",
      "1. Convert to `FBAModel`",
      "1. Choose media components",
      "1. Choose biomass components",
      "1. Record fluxes from `parsimonious_fba`",
      "1. Record in-fluxes and out-fluxes"
     ]
    },
    {
     "cell_type": "code",
     "collapsed": true,
     "input": [
      "def random_fba(metabolism):",
      "    model = metabolism.generate_fba_model()",
      "    reactions = list(model.iter_reactions())",
      "    compounds = list(model.iter_compounds())",
      "    exchange = set(random.sample(compounds, 30))",
      "    model.add_compound_source(exchange, ub=1000)",
      "    model.add_compound_drain(exchange, ub=1000)",
      "    objective = set()",
      "    while len(objective) < 10:",
      "        cmpd = random.choice(compounds)",
      "        if not cmpd in exchange:",
      "            objective.add(cmpd)",
      "    biomass = pymetabolism.SBMLReaction(\"biomass\", dict((cmpd, 1.0) for cmpd in objective), {})",
      "    model.add_reaction(biomass, list(biomass.compounds(coefficients=True)), lb=0.0, ub=1000)",
      "    model.set_objective_reaction(biomass, 1)",
      "    model.fba()",
      "    if model.iter_flux(biomass) == 0.0:",
      "        return []",
      "    total = reactions + [biomass]",
      "    return model.iter_flux(total)"
     ],
     "language": "python",
     "outputs": [],
     "prompt_number": 53
    },
    {
     "cell_type": "code",
     "collapsed": true,
     "input": [
      "fluxes = numpy.array([flux for met in systems for i in range(10) for flux in random_fba(met)])"
     ],
     "language": "python",
     "outputs": [],
     "prompt_number": 25
    },
    {
     "cell_type": "code",
     "collapsed": true,
     "input": [
      "raw = fluxes"
     ],
     "language": "python",
     "outputs": [],
     "prompt_number": 43
    },
    {
     "cell_type": "code",
     "collapsed": false,
     "input": [
      "len(raw)"
     ],
     "language": "python",
     "outputs": [
      {
       "output_type": "pyout",
       "prompt_number": 44,
       "text": [
        "150500"
       ]
      }
     ],
     "prompt_number": 44
    },
    {
     "cell_type": "code",
     "collapsed": true,
     "input": [
      "fluxes = numpy.abs(raw)"
     ],
     "language": "python",
     "outputs": [],
     "prompt_number": 45
    },
    {
     "cell_type": "code",
     "collapsed": true,
     "input": [
      "fluxes = fluxes[fluxes > 0.0]"
     ],
     "language": "python",
     "outputs": [],
     "prompt_number": 46
    },
    {
     "cell_type": "code",
     "collapsed": true,
     "input": [
      "import scipy.stats"
     ],
     "language": "python",
     "outputs": [],
     "prompt_number": 30
    },
    {
     "cell_type": "code",
     "collapsed": false,
     "input": [
      "(counts, start, size, outside) = scipy.stats.cumfreq(fluxes, 1000)"
     ],
     "language": "python",
     "outputs": [],
     "prompt_number": 47
    },
    {
     "cell_type": "code",
     "collapsed": false,
     "input": [
      "plot(counts)"
     ],
     "language": "python",
     "outputs": [
      {
       "output_type": "pyout",
       "prompt_number": 48,
       "text": [
        "[<matplotlib.lines.Line2D at 0x10c408cc>]"
       ]
      },
      {
       "output_type": "display_data",
       "png": "[encoded data removed]"
      }
     ],
     "prompt_number": 48
    },
    {
     "cell_type": "code",
     "collapsed": false,
     "input": [
      "semilogy(counts)"
     ],
     "language": "python",
     "outputs": [
      {
       "output_type": "pyout",
       "prompt_number": 49,
       "text": [
        "[<matplotlib.lines.Line2D at 0x10ebba6c>]"
       ]
      },
      {
       "output_type": "display_data",
       "png": "[encoded data removed]"
      }
     ],
     "prompt_number": 49
    },
    {
     "cell_type": "code",
     "collapsed": false,
     "input": [
      "loglog(counts)"
     ],
     "language": "python",
     "outputs": [
      {
       "output_type": "pyout",
       "prompt_number": 50,
       "text": [
        "[<matplotlib.lines.Line2D at 0x10b56d8c>]"
       ]
      },
      {
       "output_type": "display_data",
       "png": "[encoded data removed]"
      }
     ],
     "prompt_number": 50
    },
    {
     "cell_type": "code",
     "collapsed": false,
     "input": [
      "numpy.histogram(fluxes)"
     ],
     "language": "python",
     "outputs": [
      {
       "output_type": "pyout",
       "prompt_number": 51,
       "text": [
        "(array([74034, 11180,   963,   128,    21,     0,     0,     0,     0,   500]),",
        " array([  3.09834939e-04,   1.00000279e+02,   2.00000248e+02,",
        "         3.00000217e+02,   4.00000186e+02,   5.00000155e+02,",
        "         6.00000124e+02,   7.00000093e+02,   8.00000062e+02,",
        "         9.00000031e+02,   1.00000000e+03]))"
       ]
      }
     ],
     "prompt_number": 51
    },
    {
     "cell_type": "code",
     "collapsed": true,
     "input": [
      "raw_simple = numpy.array([flux for met in systems for i in range(10) for flux in random_fba(met)])"
     ],
     "language": "python",
     "outputs": [],
     "prompt_number": 54
    },
    {
     "cell_type": "code",
     "collapsed": true,
     "input": [
      "fluxes_simple = numpy.abs(raw_simple)"
     ],
     "language": "python",
     "outputs": [],
     "prompt_number": 55
    },
    {
     "cell_type": "code",
     "collapsed": true,
     "input": [
      "fluxes_simple = fluxes_simple[fluxes > 0.0]"
     ],
     "language": "python",
     "outputs": [],
     "prompt_number": 56
    },
    {
     "cell_type": "code",
     "collapsed": true,
     "input": [
      "(counts2, start2, size2, outside2) = scipy.stats.cumfreq(fluxes, 1000)"
     ],
     "language": "python",
     "outputs": [],
     "prompt_number": 57
    },
    {
     "cell_type": "code",
     "collapsed": false,
     "input": [
      "plot(counts2)"
     ],
     "language": "python",
     "outputs": [
      {
       "output_type": "pyout",
       "prompt_number": 58,
       "text": [
        "[<matplotlib.lines.Line2D at 0x111d60ac>]"
       ]
      },
      {
       "output_type": "display_data",
       "png": "[encoded data removed]"
      }
     ],
     "prompt_number": 58
    },
    {
     "cell_type": "code",
     "collapsed": false,
     "input": [
      "semilogy(counts2)"
     ],
     "language": "python",
     "outputs": [
      {
       "output_type": "pyout",
       "prompt_number": 60,
       "text": [
        "[<matplotlib.lines.Line2D at 0x112adc8c>]"
       ]
      },
      {
       "output_type": "display_data",
       "png": "[encoded data removed]"
      }
     ],
     "prompt_number": 60
    },
    {
     "cell_type": "code",
     "collapsed": false,
     "input": [
      "loglog(counts2)"
     ],
     "language": "python",
     "outputs": [
      {
       "output_type": "pyout",
       "prompt_number": 61,
       "text": [
        "[<matplotlib.lines.Line2D at 0xfc4906c>]"
       ]
      },
      {
       "output_type": "display_data",
       "png": "[encoded data removed]"
      }
     ],
     "prompt_number": 61
    },
    {
     "cell_type": "code",
     "collapsed": true,
     "input": [],
     "language": "python",
     "outputs": []
    }
   ]
  }
 ]
}